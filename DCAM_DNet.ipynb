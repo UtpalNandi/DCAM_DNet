{
  "cells": [
    {
      "cell_type": "code",
      "execution_count": null,
      "metadata": {
        "id": "RiDOXpUEI98f"
      },
      "outputs": [],
      "source": [
        "from glob import glob\n",
        "import os\n",
        "import numpy as np\n",
        "import matplotlib.pyplot as plt\n",
        "import shutil\n",
        "from torchvision import transforms\n",
        "from torchvision import models\n",
        "import torch\n",
        "from torch.autograd import Variable\n",
        "import torch.nn as nn\n",
        "import torch.nn.functional as F\n",
        "from torch.optim import lr_scheduler\n",
        "from torch import optim\n",
        "from torchvision.datasets import ImageFolder\n",
        "from torchvision.utils import make_grid\n",
        "from torch.utils.data import Dataset,DataLoader\n",
        "import time\n",
        "from torch.nn.modules import conv\n",
        "from torch.nn.modules.utils import _pair\n",
        "import math\n",
        "from functools import partial\n",
        "%matplotlib inline\n",
        "import torchvision.transforms as transforms\n"
      ]
    },
    {
      "cell_type": "code",
      "execution_count": null,
      "metadata": {
        "id": "rDK8SKz4XLmo"
      },
      "outputs": [],
      "source": [
        "#iteratively solve for inverse sqrt of a matrix\n",
        "def isqrt_newton_schulz_autograd(A, numIters):\n",
        "    dim = A.shape[0]\n",
        "    normA=A.norm()\n",
        "    Y = A.div(normA)\n",
        "    I = torch.eye(dim,dtype=A.dtype,device=A.device)\n",
        "    Z = torch.eye(dim,dtype=A.dtype,device=A.device)\n",
        "\n",
        "    for i in range(numIters):\n",
        "        T = 0.5*(3.0*I - Z@Y)\n",
        "        Y = Y@T\n",
        "        Z = T@Z\n",
        "    #A_sqrt = Y*torch.sqrt(normA)\n",
        "    A_isqrt = Z / torch.sqrt(normA)\n",
        "    return A_isqrt\n"
      ]
    },
    {
      "cell_type": "code",
      "execution_count": null,
      "metadata": {
        "id": "YKyLeseYXSnD"
      },
      "outputs": [],
      "source": [
        "def isqrt_newton_schulz_autograd_batch(A, numIters):\n",
        "    batchSize,dim,_ = A.shape\n",
        "    normA=A.view(batchSize, -1).norm(2, 1).view(batchSize, 1, 1)\n",
        "    Y = A.div(normA)\n",
        "    I = torch.eye(dim,dtype=A.dtype,device=A.device).unsqueeze(0).expand_as(A)\n",
        "    Z = torch.eye(dim,dtype=A.dtype,device=A.device).unsqueeze(0).expand_as(A)\n",
        "\n",
        "    for i in range(numIters):\n",
        "        T = 0.5*(3.0*I - Z.bmm(Y))\n",
        "        Y = Y.bmm(T)\n",
        "        Z = T.bmm(Z)\n",
        "    #A_sqrt = Y*torch.sqrt(normA)\n",
        "    A_isqrt = Z / torch.sqrt(normA)\n",
        "\n",
        "    return A_isqrt"
      ]
    },
    {
      "cell_type": "code",
      "execution_count": null,
      "metadata": {
        "id": "2YD-kfVGXXfI"
      },
      "outputs": [],
      "source": [
        "#deconvolve channels\n",
        "class ChannelDeconv(nn.Module):\n",
        "    def __init__(self,  block, eps=1e-2,n_iter=5,momentum=0.1,sampling_stride=3):\n",
        "        super(ChannelDeconv, self).__init__()\n",
        "\n",
        "        self.eps = eps\n",
        "        self.n_iter=n_iter\n",
        "        self.momentum=momentum\n",
        "        self.block = block\n",
        "\n",
        "        self.register_buffer('running_mean1', torch.zeros(block, 1))\n",
        "        #self.register_buffer('running_cov', torch.eye(block))\n",
        "        self.register_buffer('running_deconv', torch.eye(block))\n",
        "        self.register_buffer('running_mean2', torch.zeros(1, 1))\n",
        "        self.register_buffer('running_var', torch.ones(1, 1))\n",
        "        self.register_buffer('num_batches_tracked', torch.tensor(0, dtype=torch.long))\n",
        "        self.sampling_stride=sampling_stride\n",
        "    def forward(self, x):\n",
        "        x_shape = x.shape\n",
        "        if len(x.shape)==2:\n",
        "            x=x.view(x.shape[0],x.shape[1],1,1)\n",
        "        if len(x.shape)==3:\n",
        "            print('Error! Unsupprted tensor shape.')\n",
        "\n",
        "        N, C, H, W = x.size()\n",
        "        B = self.block\n",
        "\n",
        "        #take the first c channels out for deconv\n",
        "        c=int(C/B)*B\n",
        "        if c==0:\n",
        "            print('Error! block should be set smaller.')\n",
        "\n",
        "        #step 1. remove mean\n",
        "        if c!=C:\n",
        "            x1=x[:,:c].permute(1,0,2,3).contiguous().view(B,-1)\n",
        "        else:\n",
        "            x1=x.permute(1,0,2,3).contiguous().view(B,-1)\n",
        "\n",
        "        if self.sampling_stride > 1 and H >= self.sampling_stride and W >= self.sampling_stride:\n",
        "            x1_s = x1[:,::self.sampling_stride**2]\n",
        "        else:\n",
        "            x1_s=x1\n",
        "\n",
        "        mean1 = x1_s.mean(-1, keepdim=True)\n",
        "\n",
        "        if self.num_batches_tracked==0:\n",
        "            self.running_mean1.copy_(mean1.detach())\n",
        "        if self.training:\n",
        "            self.running_mean1.mul_(1-self.momentum)\n",
        "            self.running_mean1.add_(mean1.detach()*self.momentum)\n",
        "        else:\n",
        "            mean1 = self.running_mean1\n",
        "\n",
        "        x1=x1-mean1\n",
        "\n",
        "        #step 2. calculate deconv@x1 = cov^(-0.5)@x1\n",
        "        if self.training:\n",
        "            cov = x1_s @ x1_s.t() / x1_s.shape[1] + self.eps * torch.eye(B, dtype=x.dtype, device=x.device)\n",
        "            deconv = isqrt_newton_schulz_autograd(cov, self.n_iter)\n",
        "\n",
        "        if self.num_batches_tracked==0:\n",
        "            #self.running_cov.copy_(cov.detach())\n",
        "            self.running_deconv.copy_(deconv.detach())\n",
        "\n",
        "        if self.training:\n",
        "            #self.running_cov.mul_(1-self.momentum)\n",
        "            #self.running_cov.add_(cov.detach()*self.momentum)\n",
        "            self.running_deconv.mul_(1 - self.momentum)\n",
        "            self.running_deconv.add_(deconv.detach() * self.momentum)\n",
        "        else:\n",
        "            # cov = self.running_cov\n",
        "            deconv = self.running_deconv\n",
        "\n",
        "        x1 =deconv@x1\n",
        "\n",
        "        #reshape to N,c,J,W\n",
        "        x1 = x1.view(c, N, H, W).contiguous().permute(1,0,2,3)\n",
        "\n",
        "        # normalize the remaining channels\n",
        "        if c!=C:\n",
        "            x_tmp=x[:, c:].view(N,-1)\n",
        "            if self.sampling_stride > 1 and H>=self.sampling_stride and W>=self.sampling_stride:\n",
        "                x_s = x_tmp[:, ::self.sampling_stride ** 2]\n",
        "            else:\n",
        "                x_s = x_tmp\n",
        "\n",
        "            mean2=x_s.mean()\n",
        "            var=x_s.var()\n",
        "\n",
        "            if self.num_batches_tracked == 0:\n",
        "                self.running_mean2.copy_(mean2.detach())\n",
        "                self.running_var.copy_(var.detach())\n",
        "\n",
        "            if self.training:\n",
        "                self.running_mean2.mul_(1 - self.momentum)\n",
        "                self.running_mean2.add_(mean2.detach() * self.momentum)\n",
        "                self.running_var.mul_(1 - self.momentum)\n",
        "                self.running_var.add_(var.detach() * self.momentum)\n",
        "            else:\n",
        "                mean2 = self.running_mean2\n",
        "                var = self.running_var\n",
        "\n",
        "            x_tmp = (x[:, c:] - mean2) / (var + self.eps).sqrt()\n",
        "            x1 = torch.cat([x1, x_tmp], dim=1)\n",
        "\n",
        "\n",
        "        if self.training:\n",
        "            self.num_batches_tracked.add_(1)\n",
        "\n",
        "        if len(x_shape)==2:\n",
        "            x1=x1.view(x_shape)\n",
        "        return x1"
      ]
    },
    {
      "cell_type": "code",
      "execution_count": null,
      "metadata": {
        "id": "zYngVUecXhHO"
      },
      "outputs": [],
      "source": [
        "#An alternative implementation\n",
        "class Delinear(nn.Module):\n",
        "    __constants__ = ['bias', 'in_features', 'out_features']\n",
        "\n",
        "    def __init__(self, in_features, out_features, bias=True, eps=1e-5, n_iter=5, momentum=0.1, block=512):\n",
        "        super(Delinear, self).__init__()\n",
        "        self.in_features = in_features\n",
        "        self.out_features = out_features\n",
        "        self.weight = nn.Parameter(torch.Tensor(out_features, in_features))\n",
        "        if bias:\n",
        "            self.bias = nn.Parameter(torch.Tensor(out_features))\n",
        "        else:\n",
        "            self.register_parameter('bias', None)\n",
        "        self.reset_parameters()\n",
        "\n",
        "\n",
        "\n",
        "        if block > in_features:\n",
        "            block = in_features\n",
        "        else:\n",
        "            if in_features%block!=0:\n",
        "                block=math.gcd(block,in_features)\n",
        "                print('block size set to:', block)\n",
        "        self.block = block\n",
        "        self.momentum = momentum\n",
        "        self.n_iter = n_iter\n",
        "        self.eps = eps\n",
        "        self.register_buffer('running_mean', torch.zeros(self.block))\n",
        "        self.register_buffer('running_deconv', torch.eye(self.block))\n",
        "\n",
        "\n",
        "    def reset_parameters(self):\n",
        "        nn.init.kaiming_uniform_(self.weight, a=math.sqrt(5))\n",
        "        if self.bias is not None:\n",
        "            fan_in, _ = nn.init._calculate_fan_in_and_fan_out(self.weight)\n",
        "            bound = 1 / math.sqrt(fan_in)\n",
        "            nn.init.uniform_(self.bias, -bound, bound)\n",
        "\n",
        "    def forward(self, input):\n",
        "\n",
        "        if self.training:\n",
        "\n",
        "            # 1. reshape\n",
        "            X=input.view(-1, self.block)\n",
        "\n",
        "            # 2. subtract mean\n",
        "            X_mean = X.mean(0)\n",
        "            X = X - X_mean.unsqueeze(0)\n",
        "            self.running_mean.mul_(1 - self.momentum)\n",
        "            self.running_mean.add_(X_mean.detach() * self.momentum)\n",
        "\n",
        "            # 3. calculate COV, COV^(-0.5), then deconv\n",
        "            # Cov = X.t() @ X / X.shape[0] + self.eps * torch.eye(X.shape[1], dtype=X.dtype, device=X.device)\n",
        "            Id = torch.eye(X.shape[1], dtype=X.dtype, device=X.device)\n",
        "            Cov = torch.addmm(self.eps, Id, 1. / X.shape[0], X.t(), X)\n",
        "            deconv = isqrt_newton_schulz_autograd(Cov, self.n_iter)\n",
        "            # track stats for evaluation\n",
        "            self.running_deconv.mul_(1 - self.momentum)\n",
        "            self.running_deconv.add_(deconv.detach() * self.momentum)\n",
        "\n",
        "        else:\n",
        "            X_mean = self.running_mean\n",
        "            deconv = self.running_deconv\n",
        "\n",
        "        w = self.weight.view(-1, self.block) @ deconv\n",
        "        if self.bias is None:\n",
        "            b = - (w @ (X_mean.unsqueeze(1))).view(self.weight.shape[0], -1).sum(1)\n",
        "        else:\n",
        "            b = self.bias - (w @ (X_mean.unsqueeze(1))).view(self.weight.shape[0], -1).sum(1)\n",
        "\n",
        "        w = w.view(self.weight.shape)\n",
        "        return F.linear(input, w, b)\n",
        "\n",
        "    def extra_repr(self):\n",
        "        return 'in_features={}, out_features={}, bias={}'.format(\n",
        "            self.in_features, self.out_features, self.bias is not None\n",
        "        )"
      ]
    },
    {
      "cell_type": "code",
      "execution_count": null,
      "metadata": {
        "id": "ykv2lvmyXnug"
      },
      "outputs": [],
      "source": [
        "class FastDeconv(conv._ConvNd):\n",
        "\n",
        "    def __init__(self, in_channels, out_channels, kernel_size, stride=1, padding=0, dilation=1,groups=1,bias=True, eps=1e-5, n_iter=5, momentum=0.1, block=64, sampling_stride=3,freeze=False,freeze_iter=100):\n",
        "        self.momentum = momentum\n",
        "        self.n_iter = n_iter\n",
        "        self.eps = eps\n",
        "        self.counter=0\n",
        "        self.track_running_stats=True\n",
        "        super(FastDeconv, self).__init__(\n",
        "            in_channels, out_channels,  _pair(kernel_size), _pair(stride), _pair(padding), _pair(dilation),\n",
        "            False, _pair(0), groups, bias, padding_mode='zeros')\n",
        "\n",
        "        if block > in_channels:\n",
        "            block = in_channels\n",
        "        else:\n",
        "            if in_channels%block!=0:\n",
        "                block=math.gcd(block,in_channels)\n",
        "\n",
        "        if groups>1:\n",
        "            #grouped conv\n",
        "            block=in_channels//groups\n",
        "\n",
        "        self.block=block\n",
        "\n",
        "        self.num_features = kernel_size**2 *block\n",
        "        if groups==1:\n",
        "            self.register_buffer('running_mean', torch.zeros(self.num_features))\n",
        "            self.register_buffer('running_deconv', torch.eye(self.num_features))\n",
        "        else:\n",
        "            self.register_buffer('running_mean', torch.zeros(kernel_size ** 2 * in_channels))\n",
        "            self.register_buffer('running_deconv', torch.eye(self.num_features).repeat(in_channels // block, 1, 1))\n",
        "\n",
        "        self.sampling_stride=sampling_stride*stride\n",
        "        self.counter=0\n",
        "        self.freeze_iter=freeze_iter\n",
        "        self.freeze=freeze\n",
        "\n",
        "    def forward(self, x):\n",
        "        N, C, H, W = x.shape\n",
        "        B = self.block\n",
        "        frozen=self.freeze and (self.counter>self.freeze_iter)\n",
        "        if self.training and self.track_running_stats:\n",
        "            self.counter+=1\n",
        "            self.counter %= (self.freeze_iter * 10)\n",
        "\n",
        "        if self.training and (not frozen):\n",
        "\n",
        "            # 1. im2col: N x cols x pixels -> N*pixles x cols\n",
        "            if self.kernel_size[0]>1:\n",
        "                X = torch.nn.functional.unfold(x, self.kernel_size,self.dilation,self.padding,self.sampling_stride).transpose(1, 2).contiguous()\n",
        "            else:\n",
        "                #channel wise\n",
        "                X = x.permute(0, 2, 3, 1).contiguous().view(-1, C)[::self.sampling_stride**2,:]\n",
        "\n",
        "            if self.groups==1:\n",
        "                # (C//B*N*pixels,k*k*B)\n",
        "                X = X.view(-1, self.num_features, C // B).transpose(1, 2).contiguous().view(-1, self.num_features)\n",
        "            else:\n",
        "                X=X.view(-1,X.shape[-1])\n",
        "\n",
        "            # 2. subtract mean\n",
        "            X_mean = X.mean(0)\n",
        "            X = X - X_mean.unsqueeze(0)\n",
        "\n",
        "            # 3. calculate COV, COV^(-0.5), then deconv\n",
        "            if self.groups==1:\n",
        "                #Cov = X.t() @ X / X.shape[0] + self.eps * torch.eye(X.shape[1], dtype=X.dtype, device=X.device)\n",
        "                Id=torch.eye(X.shape[1], dtype=X.dtype, device=X.device)\n",
        "                Cov = torch.addmm(self.eps, Id, 1. / X.shape[0], X.t(), X)\n",
        "                deconv = isqrt_newton_schulz_autograd(Cov, self.n_iter)\n",
        "            else:\n",
        "                X = X.view(-1, self.groups, self.num_features).transpose(0, 1)\n",
        "                Id = torch.eye(self.num_features, dtype=X.dtype, device=X.device).expand(self.groups, self.num_features, self.num_features)\n",
        "                Cov = torch.baddbmm(self.eps, Id, 1. / X.shape[1], X.transpose(1, 2), X)\n",
        "\n",
        "                deconv = isqrt_newton_schulz_autograd_batch(Cov, self.n_iter)\n",
        "\n",
        "            if self.track_running_stats:\n",
        "                self.running_mean.mul_(1 - self.momentum)\n",
        "                self.running_mean.add_(X_mean.detach() * self.momentum)\n",
        "                # track stats for evaluation\n",
        "                self.running_deconv.mul_(1 - self.momentum)\n",
        "                self.running_deconv.add_(deconv.detach() * self.momentum)\n",
        "\n",
        "        else:\n",
        "            X_mean = self.running_mean\n",
        "            deconv = self.running_deconv\n",
        "\n",
        "        #4. X * deconv * conv = X * (deconv * conv)\n",
        "        if self.groups==1:\n",
        "            w = self.weight.view(-1, self.num_features, C // B).transpose(1, 2).contiguous().view(-1,self.num_features) @ deconv\n",
        "            b = self.bias - (w @ (X_mean.unsqueeze(1))).view(self.weight.shape[0], -1).sum(1)\n",
        "            w = w.view(-1, C // B, self.num_features).transpose(1, 2).contiguous()\n",
        "        else:\n",
        "            w = self.weight.view(C//B, -1,self.num_features)@deconv\n",
        "            b = self.bias - (w @ (X_mean.view( -1,self.num_features,1))).view(self.bias.shape)\n",
        "\n",
        "        w = w.view(self.weight.shape)\n",
        "        x= F.conv2d(x, w, b, self.stride, self.padding, self.dilation, self.groups)\n",
        "\n",
        "        return x"
      ]
    },
    {
      "cell_type": "code",
      "execution_count": null,
      "metadata": {
        "id": "xpx8xXo9XtUH"
      },
      "outputs": [],
      "source": [
        "deconv = partial(FastDeconv,bias=True, eps=1e-5, n_iter=5,block=64,sampling_stride=3)\n",
        "delinear = partial(Delinear, block=16, eps=1e-5,n_iter=5)\n",
        "channel_deconv = partial(ChannelDeconv, block=16, eps=1e-5, n_iter=5,sampling_stride=3)"
      ]
    },
    {
      "cell_type": "code",
      "execution_count": null,
      "metadata": {
        "id": "3bq4EVwrKTaF"
      },
      "outputs": [],
      "source": [
        "# config\n",
        "#device = torch.device('cpu')\n",
        "device = torch.device(\"cuda:0\" if torch.cuda.is_available() else \"cpu\")"
      ]
    },
    {
      "cell_type": "code",
      "execution_count": null,
      "metadata": {
        "id": "LLMKlmZeTY5w"
      },
      "outputs": [],
      "source": [
        "is_cuda = False\n",
        "if torch.cuda.is_available():\n",
        "    is_cuda = True"
      ]
    },
    {
      "cell_type": "code",
      "execution_count": null,
      "metadata": {
        "id": "bFYApgFOToQN"
      },
      "outputs": [],
      "source": [
        "def imshow(inp,cmap=None):\n",
        "    \"\"\"Imshow for Tensor.\"\"\"\n",
        "    inp = inp.numpy().transpose((1, 2, 0))\n",
        "    mean = np.array([0.485, 0.456, 0.406])\n",
        "    std = np.array([0.229, 0.224, 0.225])\n",
        "    inp = std * inp + mean\n",
        "    inp = np.clip(inp, 0, 1)\n",
        "    plt.imshow(inp,cmap)"
      ]
    },
    {
      "cell_type": "code",
      "execution_count": null,
      "metadata": {
        "id": "8BQck1Uavx1N"
      },
      "outputs": [],
      "source": [
        "#connect Drive and load data\n",
        "!pip install -U -q PyDrive"
      ]
    },
    {
      "cell_type": "code",
      "execution_count": null,
      "metadata": {
        "id": "a8NaaSDSv6As"
      },
      "outputs": [],
      "source": [
        "from pydrive.auth import GoogleAuth\n",
        "from pydrive.drive import GoogleDrive\n",
        "from google.colab import auth\n",
        "from oauth2client.client import GoogleCredentials"
      ]
    },
    {
      "cell_type": "code",
      "execution_count": null,
      "metadata": {
        "id": "499Da0I_v_Wi"
      },
      "outputs": [],
      "source": [
        "auth.authenticate_user()\n",
        "gauth = GoogleAuth()\n",
        "gauth.credentials = GoogleCredentials.get_application_default()\n",
        "drive = GoogleDrive(gauth)"
      ]
    },
    {
      "cell_type": "code",
      "execution_count": null,
      "metadata": {
        "id": "DCkanf6ewHNi"
      },
      "outputs": [],
      "source": [
        "fid = drive.ListFile({'q':\"title='ColorPlantVillage.zip'\"}).GetList()[0]['id']\n",
        "f = drive.CreateFile({'id': fid})\n",
        "f.GetContentFile('ColorPlantVillage.zip')\n",
        "\n",
        "f.keys()\n",
        "!unzip ColorPlantVillage.zip"
      ]
    },
    {
      "cell_type": "code",
      "execution_count": null,
      "metadata": {
        "id": "1HGxIctkP5WO"
      },
      "outputs": [],
      "source": [
        "simple_transform = transforms.Compose([transforms.Resize((224,224))\n",
        "                                       ,transforms.RandomAffine(degrees=10, translate=None, scale=(.9, 1.5), shear=5)\n",
        "                                       ,transforms.ToTensor()\n",
        "                                       ,transforms.Normalize([0.485, 0.456, 0.406], [0.229, 0.224, 0.225])\n",
        "                                      ])"
      ]
    },
    {
      "cell_type": "code",
      "execution_count": null,
      "metadata": {
        "id": "Ne1P4AuDwR-o",
        "colab": {
          "base_uri": "https://localhost:8080/"
        },
        "outputId": "a2526145-0380-457b-f451-a6a770c83f93"
      },
      "outputs": [
        {
          "output_type": "stream",
          "name": "stdout",
          "text": [
            "Collecting split-folders\n",
            "  Downloading split_folders-0.5.1-py3-none-any.whl (8.4 kB)\n",
            "Installing collected packages: split-folders\n",
            "Successfully installed split-folders-0.5.1\n"
          ]
        }
      ],
      "source": [
        "!pip install split-folders"
      ]
    },
    {
      "cell_type": "code",
      "execution_count": null,
      "metadata": {
        "id": "2xY8ry0HwWpV",
        "colab": {
          "base_uri": "https://localhost:8080/"
        },
        "outputId": "889472b2-7439-407d-95bc-ccf5d6046b7c"
      },
      "outputs": [
        {
          "output_type": "stream",
          "name": "stderr",
          "text": [
            "Copying files: 54305 files [00:07, 7023.64 files/s]\n"
          ]
        }
      ],
      "source": [
        "import splitfolders\n",
        "#Data = ImageFolder('/content/data')\n",
        "#splitfolders.ratio('/content/data', '/content/data', seed=1337, ratio=(.8, 0.2)) #for ISL dataset\n",
        "splitfolders.ratio('/content/ColorPlantVillage', '/content/ColorPlantVillage', seed=1337, ratio=(.8, 0.2))"
      ]
    },
    {
      "cell_type": "code",
      "execution_count": null,
      "metadata": {
        "id": "FiV4CantwdpV"
      },
      "outputs": [],
      "source": [
        "# MNIST dataset\n",
        "#train_dataset = torchvision.datasets.CIFAR10(root='../../data/', train=True, transform=simple_transform,  download=True)\n",
        "#test_dataset = torchvision.datasets.CIFAR10(root='../../data/', train=False, transform=simple_transform)\n",
        "\n",
        "train = ImageFolder('/content/ColorPlantVillage/train',simple_transform)\n",
        "valid = ImageFolder('/content/ColorPlantVillage/val',simple_transform)\n",
        "\n",
        "#train_dataset = ImageFolder('/content/tomato-disease/train',simple_transform)\n",
        "#test_dataset = ImageFolder('/content/tomato-disease/test',simple_transform)\n"
      ]
    },
    {
      "cell_type": "code",
      "execution_count": null,
      "metadata": {
        "id": "eWQnN89RVowf",
        "colab": {
          "base_uri": "https://localhost:8080/"
        },
        "outputId": "c8804a73-9f58-425e-bbd1-4aa620dd03ad"
      },
      "outputs": [
        {
          "output_type": "stream",
          "name": "stdout",
          "text": [
            "{'Apple___Apple_scab': 0, 'Apple___Black_rot': 1, 'Apple___Cedar_apple_rust': 2, 'Apple___healthy': 3, 'Blueberry___healthy': 4, 'Cherry_(including_sour)___Powdery_mildew': 5, 'Cherry_(including_sour)___healthy': 6, 'Corn_(maize)___Cercospora_leaf_spot Gray_leaf_spot': 7, 'Corn_(maize)___Common_rust_': 8, 'Corn_(maize)___Northern_Leaf_Blight': 9, 'Corn_(maize)___healthy': 10, 'Grape___Black_rot': 11, 'Grape___Esca_(Black_Measles)': 12, 'Grape___Leaf_blight_(Isariopsis_Leaf_Spot)': 13, 'Grape___healthy': 14, 'Orange___Haunglongbing_(Citrus_greening)': 15, 'Peach___Bacterial_spot': 16, 'Peach___healthy': 17, 'Pepper,_bell___Bacterial_spot': 18, 'Pepper,_bell___healthy': 19, 'Potato___Early_blight': 20, 'Potato___Late_blight': 21, 'Potato___healthy': 22, 'Raspberry___healthy': 23, 'Soybean___healthy': 24, 'Squash___Powdery_mildew': 25, 'Strawberry___Leaf_scorch': 26, 'Strawberry___healthy': 27, 'Tomato___Bacterial_spot': 28, 'Tomato___Early_blight': 29, 'Tomato___Late_blight': 30, 'Tomato___Leaf_Mold': 31, 'Tomato___Septoria_leaf_spot': 32, 'Tomato___Spider_mites Two-spotted_spider_mite': 33, 'Tomato___Target_Spot': 34, 'Tomato___Tomato_Yellow_Leaf_Curl_Virus': 35, 'Tomato___Tomato_mosaic_virus': 36, 'Tomato___healthy': 37}\n",
            "['Apple___Apple_scab', 'Apple___Black_rot', 'Apple___Cedar_apple_rust', 'Apple___healthy', 'Blueberry___healthy', 'Cherry_(including_sour)___Powdery_mildew', 'Cherry_(including_sour)___healthy', 'Corn_(maize)___Cercospora_leaf_spot Gray_leaf_spot', 'Corn_(maize)___Common_rust_', 'Corn_(maize)___Northern_Leaf_Blight', 'Corn_(maize)___healthy', 'Grape___Black_rot', 'Grape___Esca_(Black_Measles)', 'Grape___Leaf_blight_(Isariopsis_Leaf_Spot)', 'Grape___healthy', 'Orange___Haunglongbing_(Citrus_greening)', 'Peach___Bacterial_spot', 'Peach___healthy', 'Pepper,_bell___Bacterial_spot', 'Pepper,_bell___healthy', 'Potato___Early_blight', 'Potato___Late_blight', 'Potato___healthy', 'Raspberry___healthy', 'Soybean___healthy', 'Squash___Powdery_mildew', 'Strawberry___Leaf_scorch', 'Strawberry___healthy', 'Tomato___Bacterial_spot', 'Tomato___Early_blight', 'Tomato___Late_blight', 'Tomato___Leaf_Mold', 'Tomato___Septoria_leaf_spot', 'Tomato___Spider_mites Two-spotted_spider_mite', 'Tomato___Target_Spot', 'Tomato___Tomato_Yellow_Leaf_Curl_Virus', 'Tomato___Tomato_mosaic_virus', 'Tomato___healthy']\n"
          ]
        }
      ],
      "source": [
        "print(train.class_to_idx)\n",
        "print(train.classes)"
      ]
    },
    {
      "cell_type": "code",
      "execution_count": null,
      "metadata": {
        "id": "ZGjLoQOYUeUb"
      },
      "outputs": [],
      "source": [
        "imshow(valid[10][0])"
      ]
    },
    {
      "cell_type": "code",
      "execution_count": null,
      "metadata": {
        "id": "Fzl5OU6iUktA"
      },
      "outputs": [],
      "source": [
        "#parameters\n",
        "num_epochs = 5\n",
        "num_classes = 38\n",
        "batch_size = 100\n",
        "learning_rate = 0.001"
      ]
    },
    {
      "cell_type": "code",
      "execution_count": null,
      "metadata": {
        "id": "jLLYlMCbUrsx"
      },
      "outputs": [],
      "source": [
        "train_data_loader = torch.utils.data.DataLoader(dataset=train, batch_size=batch_size, num_workers=2, shuffle=True)\n",
        "valid_data_loader = torch.utils.data.DataLoader(dataset=valid, batch_size=batch_size, num_workers=2, shuffle=False)"
      ]
    },
    {
      "cell_type": "code",
      "execution_count": null,
      "metadata": {
        "id": "FAi8ZZReJwe9"
      },
      "outputs": [],
      "source": [
        "# get some random training images from dataset\n",
        "dataiter = iter(train_data_loader)\n",
        "images, labels = dataiter.next()"
      ]
    },
    {
      "cell_type": "code",
      "execution_count": null,
      "metadata": {
        "id": "yFDAHhchJ2zV"
      },
      "outputs": [],
      "source": [
        "# show images\n",
        "imshow(torchvision.utils.make_grid(images))\n"
      ]
    },
    {
      "cell_type": "code",
      "source": [
        "# Channel Attention Unit (CAU)\n",
        "class CAU(nn.Module):\n",
        "    def __init__(self, channels, kernel_size=3):\n",
        "        super(CAU, self).__init__()\n",
        "        self.feature_extraction = nn.Sequential(\n",
        "            deconv(in_channels=channels, out_channels=channels, kernel_size=kernel_size, padding=kernel_size//2),\n",
        "            nn.ReLU(inplace=True)\n",
        "        )\n",
        "        self.global_avg_pool = nn.AdaptiveAvgPool2d(1)\n",
        "        self.fc = nn.Sequential(\n",
        "            nn.Conv1d(channels, channels, kernel_size=1),\n",
        "            nn.Sigmoid()\n",
        "        )\n",
        "\n",
        "    def forward(self, x):\n",
        "        feat = self.feature_extraction(x)\n",
        "        g = self.global_avg_pool(feat).view(feat.size(0), feat.size(1), -1)  # (N, C, 1)\n",
        "        weight = self.fc(g).view(feat.size(0), feat.size(1), 1, 1)\n",
        "        out = weight * feat\n",
        "        return out"
      ],
      "metadata": {
        "id": "9LYwLroG0plY"
      },
      "execution_count": null,
      "outputs": []
    },
    {
      "cell_type": "code",
      "source": [
        "# Densely Connected Attention Module (DCAM)\n",
        "class DCAM(nn.Module):\n",
        "    def __init__(self, channels):\n",
        "        super(DCAM, self).__init__()\n",
        "        self.cau1 = CAU(channels)\n",
        "        self.cau2 = CAU(channels)\n",
        "        self.cau3 = CAU(channels)\n",
        "\n",
        "    def forward(self, x):\n",
        "        out1 = self.cau1(x)\n",
        "        out2 = self.cau2(torch.cat([x, out1], dim=1))\n",
        "        out3 = self.cau3(torch.cat([x, out1, out2], dim=1))\n",
        "        out = torch.cat([x, out1, out2, out3], dim=1)\n",
        "        return out\n"
      ],
      "metadata": {
        "id": "GFVnfqQR0xAH"
      },
      "execution_count": null,
      "outputs": []
    },
    {
      "cell_type": "code",
      "source": [
        "# Transition Layer\n",
        "class TransitionLayer(nn.Module):\n",
        "    def __init__(self, in_channels, out_channels):\n",
        "        super(TransitionLayer, self).__init__()\n",
        "        self.conv = deconv(in_channels, out_channels, kernel_size=1)\n",
        "        self.relu = nn.ReLU(inplace=True)\n",
        "        self.pool = nn.AvgPool2d(2)\n",
        "\n",
        "    def forward(self, x):\n",
        "        out = self.conv(x)\n",
        "        out = self.relu(out)\n",
        "        out = self.pool(out)\n",
        "        return out\n"
      ],
      "metadata": {
        "id": "prlDbd0_03Gv"
      },
      "execution_count": null,
      "outputs": []
    },
    {
      "cell_type": "code",
      "source": [
        "# DCAM-DNet model\n",
        "class DCAM_DNet(nn.Module):\n",
        "    def __init__(self, num_classes=38, init_channels=64):\n",
        "        super(DCAM_DNet, self).__init__()\n",
        "        self.init_conv = nn.Sequential(\n",
        "            deconv(in_channels=3, out_channels=init_channels, kernel_size=3, padding=1),\n",
        "            nn.ReLU(inplace=True),\n",
        "            nn.MaxPool2d(2)\n",
        "        )\n",
        "\n",
        "        self.dcam1 = DCAM(init_channels)\n",
        "        self.transition1 = TransitionLayer(init_channels * 4, init_channels)\n",
        "\n",
        "        self.dcam2 = DCAM(init_channels)\n",
        "        self.transition2 = TransitionLayer(init_channels * 4, init_channels)\n",
        "\n",
        "        self.dcam3 = DCAM(init_channels)\n",
        "        self.transition3 = TransitionLayer(init_channels * 4, init_channels)\n",
        "\n",
        "        self.dcam4 = DCAM(init_channels)\n",
        "\n",
        "        self.relu = nn.ReLU(inplace=True)\n",
        "        self.global_pool = nn.AdaptiveAvgPool2d(1)\n",
        "\n",
        "        fc_input_features = init_channels * 4\n",
        "        self.fc1 = delinear(fc_input_features, 256)\n",
        "        self.fc2 = delinear(256, 128)\n",
        "        self.fc3 = delinear(128, num_classes)\n",
        "\n",
        "    def forward(self, x):\n",
        "        out = self.init_conv(x)\n",
        "\n",
        "        out = self.dcam1(out)\n",
        "        out = self.transition1(out)\n",
        "\n",
        "        out = self.dcam2(out)\n",
        "        out = self.transition2(out)\n",
        "\n",
        "        out = self.dcam3(out)\n",
        "        out = self.transition3(out)\n",
        "\n",
        "        out = self.dcam4(out)\n",
        "        out = self.relu(out)\n",
        "\n",
        "        out = self.global_pool(out)\n",
        "        out = out.view(out.size(0), -1)\n",
        "\n",
        "        out = self.fc1(out)\n",
        "        out = F.relu(out)\n",
        "        out = self.fc2(out)\n",
        "        out = F.relu(out)\n",
        "        out = self.fc3(out)\n",
        "        return out\n"
      ],
      "metadata": {
        "id": "fYOd0It508HA"
      },
      "execution_count": null,
      "outputs": []
    },
    {
      "cell_type": "code",
      "execution_count": null,
      "metadata": {
        "id": "hNf0PzCdVygC",
        "colab": {
          "base_uri": "https://localhost:8080/"
        },
        "outputId": "92dc16e7-b406-4b59-ae73-7b5e52b7dbd2"
      },
      "outputs": [
        {
          "output_type": "stream",
          "name": "stdout",
          "text": [
            "block size set to: 8\n",
            "block size set to: 4\n"
          ]
        }
      ],
      "source": [
        "model = DCAM_DNet()\n",
        "if is_cuda:\n",
        "    model.cuda()"
      ]
    },
    {
      "cell_type": "code",
      "execution_count": null,
      "metadata": {
        "id": "2qjO28WDKiQA"
      },
      "outputs": [],
      "source": [
        "# Loss and optimize\n",
        "criterion = nn.CrossEntropyLoss()\n",
        "optimizer = torch.optim.Adam(model.parameters(), lr=learning_rate)"
      ]
    },
    {
      "cell_type": "code",
      "execution_count": null,
      "metadata": {
        "id": "_oizWXY2WKHF"
      },
      "outputs": [],
      "source": [
        "def fit(epoch,model,data_loader,phase='training',volatile=False): #fit replaced by predict\n",
        "    if phase == 'training':\n",
        "        model.train()\n",
        "    if phase == 'validation':\n",
        "        model.eval()\n",
        "        volatile=True\n",
        "    running_loss = 0.0\n",
        "    running_correct = 0\n",
        "    for batch_idx , (data,target) in enumerate(data_loader):\n",
        "        if is_cuda:\n",
        "            data,target = data.cuda(),target.cuda()\n",
        "        data , target = Variable(data,volatile),Variable(target)\n",
        "        if phase == 'training':\n",
        "            optimizer.zero_grad()\n",
        "        output = model(data)\n",
        "        loss = F.nll_loss(output,target)\n",
        "\n",
        "        running_loss += F.nll_loss(output,target,size_average=False).data\n",
        "        preds = output.data.max(dim=1,keepdim=True)[1]\n",
        "        running_correct += preds.eq(target.data.view_as(preds)).cpu().sum()\n",
        "        if phase == 'training':\n",
        "            loss.backward()\n",
        "            optimizer.step()\n",
        "\n",
        "    loss = running_loss/len(data_loader.dataset)\n",
        "    accuracy = 100. * running_correct/len(data_loader.dataset)\n",
        "\n",
        "    print(f'{phase} loss is {loss:{5}.{2}} and {phase} accuracy is {running_correct}/{len(data_loader.dataset)}{accuracy:{10}.{4}}')\n",
        "    return loss,accuracy"
      ]
    },
    {
      "cell_type": "code",
      "execution_count": null,
      "metadata": {
        "colab": {
          "base_uri": "https://localhost:8080/"
        },
        "id": "6axOuhq1WODV",
        "outputId": "1a9a9fa2-6d88-43de-8a99-6202ce9e3df8"
      },
      "outputs": [
        {
          "output_type": "stream",
          "name": "stderr",
          "text": [
            "/usr/local/lib/python3.7/dist-packages/torch/nn/_reduction.py:42: UserWarning: size_average and reduce args will be deprecated, please use reduction='sum' instead.\n",
            "  warnings.warn(warning.format(ret))\n"
          ]
        },
        {
          "output_type": "stream",
          "name": "stdout",
          "text": [
            "training loss is  0.75 and training accuracy is 34895/43429     80.35\n",
            "validation loss is  0.25 and validation accuracy is 10052/10876     92.42\n",
            "training loss is  0.19 and training accuracy is 40895/43429     94.17\n",
            "validation loss is  0.17 and validation accuracy is 10295/10876     94.66\n",
            "training loss is  0.11 and training accuracy is 42023/43429     96.76\n",
            "validation loss is  0.12 and validation accuracy is 10454/10876     96.12\n",
            "training loss is 0.077 and training accuracy is 42401/43429     97.63\n",
            "validation loss is 0.092 and validation accuracy is 10553/10876     97.03\n",
            "training loss is 0.062 and training accuracy is 42585/43429     98.06\n",
            "validation loss is 0.095 and validation accuracy is 10574/10876     97.22\n"
          ]
        }
      ],
      "source": [
        "train_losses , train_accuracy = [],[]\n",
        "val_losses , val_accuracy = [],[]\n",
        "for epoch in range(1,num_epochs+1):\n",
        "    epoch_loss, epoch_accuracy = fit(epoch, model, train_data_loader, phase='training') #fit replaced by predict\n",
        "    val_epoch_loss , val_epoch_accuracy = fit(epoch, model, valid_data_loader, phase='validation')\n",
        "    train_losses.append(epoch_loss)\n",
        "    train_accuracy.append(epoch_accuracy)\n",
        "    val_losses.append(val_epoch_loss)\n",
        "    val_accuracy.append(val_epoch_accuracy)"
      ]
    },
    {
      "cell_type": "code",
      "execution_count": null,
      "metadata": {
        "colab": {
          "base_uri": "https://localhost:8080/",
          "height": 295
        },
        "id": "xOtNYsjwsnHV",
        "outputId": "b71525b9-8a94-4ba9-c164-18b9c8a48cb6"
      },
      "outputs": [
        {
          "output_type": "display_data",
          "data": {
            "text/plain": [
              "<Figure size 432x288 with 1 Axes>"
            ],
            "image/png": "[encoded data removed]"
          },
          "metadata": {
            "needs_background": "light"
          }
        }
      ],
      "source": [
        "# Plot training and validation accuracy values\n",
        "plt.plot(range(1,len(train_accuracy)+1), train_accuracy,label='Train')\n",
        "plt.plot(range(1,len(val_accuracy)+1),val_accuracy,label='Val')\n",
        "plt.title('Model accuracy')\n",
        "plt.ylabel('Accuracy')\n",
        "plt.xlabel('Epoch')\n",
        "plt.legend()\n",
        "plt.show()"
      ]
    },
    {
      "cell_type": "code",
      "execution_count": null,
      "metadata": {
        "id": "591Mrcinsu21"
      },
      "outputs": [],
      "source": [
        "from sklearn.metrics import confusion_matrix\n",
        "\n",
        "nb_classes = num_classes\n",
        "\n",
        "# Initialize the prediction and label lists(tensors)\n",
        "predlist=torch.zeros(0,dtype=torch.long, device='cpu')\n",
        "lbllist=torch.zeros(0,dtype=torch.long, device='cpu')\n",
        "device = torch.device(\"cuda:0\" if torch.cuda.is_available() else \"cpu\")"
      ]
    },
    {
      "cell_type": "code",
      "execution_count": null,
      "metadata": {
        "colab": {
          "base_uri": "https://localhost:8080/"
        },
        "id": "uvsbDAiZs0FX",
        "outputId": "aae4048a-632d-40d6-9527-1d0cefae8d07"
      },
      "outputs": [
        {
          "output_type": "stream",
          "name": "stdout",
          "text": [
            "[[ 118    5    0 ...    0    0    0]\n",
            " [   0  124    0 ...    0    0    0]\n",
            " [   1    1   53 ...    0    0    0]\n",
            " ...\n",
            " [   0    0    0 ... 1069    0    0]\n",
            " [   0    0    0 ...    0   75    0]\n",
            " [   0    0    0 ...    0    0  317]]\n"
          ]
        }
      ],
      "source": [
        "\n",
        "with torch.no_grad():\n",
        "    for i, (inputs, classes) in enumerate(valid_data_loader):\n",
        "        inputs = inputs.to(device)\n",
        "        classes = classes.to(device)\n",
        "        outputs = model(inputs)\n",
        "        _, preds = torch.max(outputs, 1)\n",
        "\n",
        "        # Append batch prediction results\n",
        "        predlist=torch.cat([predlist,preds.view(-1).cpu()])\n",
        "        lbllist=torch.cat([lbllist,classes.view(-1).cpu()])\n",
        "\n",
        "# Confusion matrix\n",
        "conf_mat=confusion_matrix(lbllist.numpy(), predlist.numpy())\n",
        "print(conf_mat)"
      ]
    },
    {
      "cell_type": "code",
      "execution_count": null,
      "metadata": {
        "colab": {
          "base_uri": "https://localhost:8080/"
        },
        "id": "Q-MEqA4PtBL-",
        "outputId": "e993f027-bff4-47c0-eb10-0f5ea87d324e"
      },
      "outputs": [
        {
          "output_type": "stream",
          "name": "stdout",
          "text": [
            "[ 93.65079365  99.2         96.36363636  99.0881459   98.33887043\n",
            "  97.63033175  98.83040936  86.40776699  98.32635983  92.89340102\n",
            "  99.57081545  97.45762712  99.27797834 100.          96.47058824\n",
            "  99.7277677   95.43478261  98.61111111  94.5         96.62162162\n",
            "  95.          89.5         96.77419355  97.33333333  99.11591356\n",
            "  99.18256131  99.0990991   97.82608696  96.47887324  82.\n",
            "  92.93193717  87.95811518  95.77464789  99.10714286  93.23843416\n",
            "  99.72014925 100.          99.37304075]\n"
          ]
        }
      ],
      "source": [
        "# Per-class accuracy\n",
        "class_accuracy=100*conf_mat.diagonal()/conf_mat.sum(1)\n",
        "print(class_accuracy)"
      ]
    },
    {
      "cell_type": "code",
      "execution_count": null,
      "metadata": {
        "id": "8O9QYyK0tGVO"
      },
      "outputs": [],
      "source": [
        "from mlxtend.plotting import plot_confusion_matrix\n",
        "from sklearn.metrics import classification_report, confusion_matrix"
      ]
    },
    {
      "cell_type": "code",
      "execution_count": null,
      "metadata": {
        "colab": {
          "base_uri": "https://localhost:8080/",
          "height": 912
        },
        "id": "Nj9vSlSstJ-k",
        "outputId": "500c0033-3491-4096-9a54-6fcf1852f3aa"
      },
      "outputs": [
        {
          "output_type": "execute_result",
          "data": {
            "text/plain": [
              "(<Figure size 1080x1080 with 1 Axes>,\n",
              " <matplotlib.axes._subplots.AxesSubplot at 0x7fcbecb94390>)"
            ]
          },
          "metadata": {},
          "execution_count": 47
        },
        {
          "output_type": "display_data",
          "data": {
            "text/plain": [
              "<Figure size 1080x1080 with 1 Axes>"
            ],
            "image/png": "[encoded data removed]"
          },
          "metadata": {
            "needs_background": "light"
          }
        }
      ],
      "source": [
        "#mat=confusion_matrix(test_data_gen2.classes,y_pred)\n",
        "#target_names = ['A', 'B', 'C','D','E','F','G','H','I','J','K','L','M','N','O','P','Q','R','S','T','U','V','W','X','Y','Z']\n",
        "#plot_confusion_matrix(mat,figsize=(26,26),class_names=target_names,show_normed=True)\n",
        "plot_confusion_matrix(conf_mat,figsize=(15,15),show_normed=True)"
      ]
    },
    {
      "cell_type": "code",
      "execution_count": null,
      "metadata": {
        "colab": {
          "base_uri": "https://localhost:8080/"
        },
        "id": "OmRgyTJztPQ5",
        "outputId": "eb7ed263-174a-476e-e9ad-38b2f03c2b52"
      },
      "outputs": [
        {
          "output_type": "stream",
          "name": "stdout",
          "text": [
            "Classification Report\n",
            "              precision    recall  f1-score   support\n",
            "\n",
            "           0       0.82      0.94      0.87       126\n",
            "           1       0.92      0.99      0.95       125\n",
            "           2       0.93      0.96      0.95        55\n",
            "           3       0.94      0.99      0.96       329\n",
            "           4       1.00      0.98      0.99       301\n",
            "           5       1.00      0.98      0.99       211\n",
            "           6       0.97      0.99      0.98       171\n",
            "           7       0.90      0.86      0.88       103\n",
            "           8       0.98      0.98      0.98       239\n",
            "           9       0.94      0.93      0.93       197\n",
            "          10       0.98      1.00      0.99       233\n",
            "          11       1.00      0.97      0.99       236\n",
            "          12       0.98      0.99      0.98       277\n",
            "          13       1.00      1.00      1.00       216\n",
            "          14       0.98      0.96      0.97        85\n",
            "          15       0.99      1.00      1.00      1102\n",
            "          16       0.99      0.95      0.97       460\n",
            "          17       0.97      0.99      0.98        72\n",
            "          18       0.95      0.94      0.95       200\n",
            "          19       0.96      0.97      0.96       296\n",
            "          20       0.99      0.95      0.97       200\n",
            "          21       0.94      0.90      0.92       200\n",
            "          22       0.88      0.97      0.92        31\n",
            "          23       0.99      0.97      0.98        75\n",
            "          24       0.99      0.99      0.99      1018\n",
            "          25       0.98      0.99      0.99       367\n",
            "          26       0.99      0.99      0.99       222\n",
            "          27       0.98      0.98      0.98        92\n",
            "          28       0.98      0.96      0.97       426\n",
            "          29       0.97      0.82      0.89       200\n",
            "          30       0.92      0.93      0.92       382\n",
            "          31       0.99      0.88      0.93       191\n",
            "          32       0.97      0.96      0.96       355\n",
            "          33       0.96      0.99      0.98       336\n",
            "          34       0.92      0.93      0.93       281\n",
            "          35       0.98      1.00      0.99      1072\n",
            "          36       0.96      1.00      0.98        75\n",
            "          37       0.98      0.99      0.99       319\n",
            "\n",
            "    accuracy                           0.97     10876\n",
            "   macro avg       0.96      0.96      0.96     10876\n",
            "weighted avg       0.97      0.97      0.97     10876\n",
            "\n"
          ]
        }
      ],
      "source": [
        "print('Classification Report')\n",
        "#print(classification_report(test_data_gen.classes, y_pred, target_names=target_names))\n",
        "print(classification_report(lbllist, predlist))"
      ]
    },
    {
      "cell_type": "code",
      "execution_count": null,
      "metadata": {
        "id": "3_isNGYvseZp"
      },
      "outputs": [],
      "source": []
    },
    {
      "cell_type": "code",
      "execution_count": null,
      "metadata": {
        "colab": {
          "base_uri": "https://localhost:8080/"
        },
        "id": "CWktAJD1Knr9",
        "outputId": "e8604e2d-2f4c-4664-dbe9-c23bb83a5753"
      },
      "outputs": [
        {
          "output_type": "stream",
          "name": "stdout",
          "text": [
            "Epoch [1/5], Step [100/435], Loss: 0.0990\n",
            "Epoch [1/5], Step [200/435], Loss: 0.1895\n",
            "Epoch [1/5], Step [300/435], Loss: 0.1194\n",
            "Epoch [1/5], Step [400/435], Loss: 0.1710\n",
            "Epoch [2/5], Step [100/435], Loss: 0.1011\n",
            "Epoch [2/5], Step [200/435], Loss: 0.0471\n",
            "Epoch [2/5], Step [300/435], Loss: 0.1024\n",
            "Epoch [2/5], Step [400/435], Loss: 0.1168\n",
            "Epoch [3/5], Step [100/435], Loss: 0.0725\n",
            "Epoch [3/5], Step [200/435], Loss: 0.0539\n",
            "Epoch [3/5], Step [300/435], Loss: 0.2116\n",
            "Epoch [3/5], Step [400/435], Loss: 0.0729\n",
            "Epoch [4/5], Step [100/435], Loss: 0.0934\n",
            "Epoch [4/5], Step [200/435], Loss: 0.0422\n",
            "Epoch [4/5], Step [300/435], Loss: 0.0735\n",
            "Epoch [4/5], Step [400/435], Loss: 0.1262\n",
            "Epoch [5/5], Step [100/435], Loss: 0.1329\n",
            "Epoch [5/5], Step [200/435], Loss: 0.0381\n",
            "Epoch [5/5], Step [300/435], Loss: 0.1186\n",
            "Epoch [5/5], Step [400/435], Loss: 0.0729\n"
          ]
        }
      ],
      "source": [
        "# Train\n",
        "total_step = len(train_data_loader)\n",
        "for epoch in range(num_epochs):\n",
        "    for i, (images, labels) in enumerate(train_data_loader):\n",
        "        images = images.to(device)\n",
        "        labels = labels.to(device)\n",
        "\n",
        "        # Forward pass\n",
        "        outputs = model(images)\n",
        "        loss = criterion(outputs, labels)\n",
        "\n",
        "        # Backprop and optimize\n",
        "        optimizer.zero_grad()\n",
        "        loss.backward()\n",
        "        optimizer.step()\n",
        "\n",
        "        if (i + 1) % batch_size == 0:\n",
        "            print ('Epoch [{}/{}], Step [{}/{}], Loss: {:.4f}'\n",
        "                   .format(epoch + 1, num_epochs, i + 1, total_step, loss.item()))"
      ]
    },
    {
      "cell_type": "code",
      "execution_count": null,
      "metadata": {
        "colab": {
          "base_uri": "https://localhost:8080/"
        },
        "id": "Sv7ZJVII5BLI",
        "outputId": "d3bfee72-d507-4679-c8a2-68a5a0e328b3"
      },
      "outputs": [
        {
          "output_type": "stream",
          "name": "stdout",
          "text": [
            "Model Accuracy on the 10000 test images: 96.69915410077235 %\n"
          ]
        }
      ],
      "source": [
        "# Test the model\n",
        "model.eval()  # eval mode (batchnorm uses moving mean/variance instead of mini-batch mean/variance)\n",
        "with torch.no_grad():\n",
        "    correct = 0\n",
        "    total = 0\n",
        "    for images, labels in valid_data_loader:\n",
        "        images = images.to(device)\n",
        "        labels = labels.to(device)\n",
        "        outputs = model(images)\n",
        "        _, predicted = torch.max(outputs.data, 1)\n",
        "        total += labels.size(0)\n",
        "        correct += (predicted == labels).sum().item()\n",
        "\n",
        "    print('Model Accuracy on the 10000 test images: {} %'.format(100 * correct / total))"
      ]
    }
  ],
  "metadata": {
    "accelerator": "GPU",
    "colab": {
      "machine_shape": "hm",
      "provenance": []
    },
    "kernelspec": {
      "display_name": "Python 3",
      "name": "python3"
    }
  },
  "nbformat": 4,
  "nbformat_minor": 0
}